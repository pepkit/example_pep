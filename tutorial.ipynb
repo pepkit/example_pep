{
 "cells": [
  {
   "cell_type": "markdown",
   "metadata": {
    "deletable": true,
    "editable": true
   },
   "source": [
    "# Basic PEP example\n",
    "\n",
    "This vignette will show you a simple example PEP-formatted project, and how to read it into python using the `peppy` package.\n",
    "\n",
    "## Example 1\n",
    "\n",
    "Start by importing `peppy`, and then let's take a look at the configuration file that defines our project:"
   ]
  },
  {
   "cell_type": "code",
   "execution_count": 4,
   "metadata": {
    "collapsed": true,
    "deletable": true,
    "editable": true
   },
   "outputs": [],
   "source": [
    "import peppy"
   ]
  },
  {
   "cell_type": "code",
   "execution_count": 5,
   "metadata": {
    "collapsed": false,
    "deletable": true,
    "editable": true
   },
   "outputs": [
    {
     "name": "stdout",
     "output_type": "stream",
     "text": [
      "metadata:\n",
      "  sample_annotation: sample_annotation.csv\n",
      "  output_dir: $HOME/hello_looper_results\n",
      "\n"
     ]
    }
   ],
   "source": [
    "project_config_file = \"example1/project_config.yaml\"\n",
    "with open(project_config_file) as f:\n",
    "    print f.read()"
   ]
  },
  {
   "cell_type": "markdown",
   "metadata": {
    "deletable": true,
    "editable": true
   },
   "source": [
    "It's a basic `yaml` file with one section, *metadata*, with just two variables. This is about the simplest possible PEP project configuration file. The *sample_annotation* points at the annotation file, which is stored in the same folder as `project_config.yaml`. Let's now glance at that annotation file: "
   ]
  },
  {
   "cell_type": "code",
   "execution_count": 6,
   "metadata": {
    "collapsed": false,
    "deletable": true,
    "editable": true
   },
   "outputs": [
    {
     "name": "stdout",
     "output_type": "stream",
     "text": [
      "sample_name,library,file\n",
      "frog_1,anySampleType,data/frog1_data.txt\n",
      "frog_2,anySampleType,data/frog2_data.txt\n",
      "\n"
     ]
    }
   ],
   "source": [
    "project_config_file = \"example1/sample_annotation.csv\"\n",
    "with open(project_config_file) as f:\n",
    "    print f.read()"
   ]
  },
  {
   "cell_type": "markdown",
   "metadata": {
    "deletable": true,
    "editable": true
   },
   "source": [
    "This *sample_annotation* file is a basic *csv* file, with rows corresponding to samples, and columns corresponding to sample attributes. Let's read this simple example project into python using `peppy`:"
   ]
  },
  {
   "cell_type": "code",
   "execution_count": 8,
   "metadata": {
    "collapsed": false,
    "deletable": true,
    "editable": true
   },
   "outputs": [],
   "source": [
    "proj1 = peppy.Project(\"example1/project_config.yaml\")"
   ]
  },
  {
   "cell_type": "markdown",
   "metadata": {
    "deletable": true,
    "editable": true
   },
   "source": [
    "Now, we have access to all the project metadata in easy-to-use form using python objects. We can browse the samples in the project like this:"
   ]
  },
  {
   "cell_type": "code",
   "execution_count": 9,
   "metadata": {
    "collapsed": false,
    "deletable": true,
    "editable": true
   },
   "outputs": [
    {
     "data": {
      "text/plain": [
       "'data/frog1_data.txt'"
      ]
     },
     "execution_count": 9,
     "metadata": {},
     "output_type": "execute_result"
    }
   ],
   "source": [
    "p1.samples[0].file"
   ]
  }
 ],
 "metadata": {
  "kernelspec": {
   "display_name": "Python 2",
   "language": "python",
   "name": "python2"
  },
  "language_info": {
   "codemirror_mode": {
    "name": "ipython",
    "version": 2
   },
   "file_extension": ".py",
   "mimetype": "text/x-python",
   "name": "python",
   "nbconvert_exporter": "python",
   "pygments_lexer": "ipython2",
   "version": "2.7.12"
  }
 },
 "nbformat": 4,
 "nbformat_minor": 2
}
